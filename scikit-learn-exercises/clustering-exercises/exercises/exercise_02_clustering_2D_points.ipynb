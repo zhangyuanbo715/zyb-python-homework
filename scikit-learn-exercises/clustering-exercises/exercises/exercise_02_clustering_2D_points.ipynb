{
    "metadata": {
        "language_info": {
            "nbconvert_exporter": "python",
            "version": "3.7.4-final",
            "codemirror_mode": {
                "version": 3,
                "name": "ipython"
            },
            "name": "python",
            "file_extension": ".py",
            "pygments_lexer": "ipython3",
            "mimetype": "text/x-python"
        },
        "kernelspec": {
            "display_name": "Python 3.7.4 64-bit ('base': conda)",
            "language": "python",
            "name": "python37464bitbaseconda631a9d6c818a4bcb9f46f671d2ea609d"
        }
    },
    "nbformat_minor": 1,
    "cells": [
        {
            "cell_type": "markdown",
            "metadata": {},
            "source": [
                "# Exercise 2: Clustering 2D points"
            ]
        },
        {
            "cell_type": "markdown",
            "metadata": {},
            "source": [
                "From the course _Transition to Data Science_. [Buy the entire course for just $10](https://www.udemy.com/transition-to-data-science-in-python/?couponCode=CLUSTER-NBS) for many more exercises and helpful video lectures."
            ]
        },
        {
            "cell_type": "markdown",
            "metadata": {},
            "source": [
                "From the scatter plot of the previous exercise, you saw that the points seem to separate into 3 clusters.  Now create a KMeans model to find 3 clusters, and fit it to the data points from the previous exercise.  After the model has been fit, obtain the cluster labels for points, and also for some new points using the `.predict()` method.\n",
                "\n",
                "You are given the array `points` from the previous exercise, and also an array `new_points`."
            ]
        },
        {
            "cell_type": "markdown",
            "metadata": {},
            "source": [
                "**Step 1:** Load the dataset _(written for you)_."
            ]
        },
        {
            "cell_type": "code",
            "execution_count": 1,
            "metadata": {},
            "outputs": [],
            "source": [
                "import pandas as pd\n",
                "\n",
                "df = pd.read_csv('../datasets/ch1ex1.csv')\n",
                "points = df.values   #训练集\n",
                "\n",
                "new_df = pd.read_csv('../datasets/ch1ex2.csv')\n",
                "new_points = new_df.values  #测试集"
            ]
        },
        {
            "cell_type": "markdown",
            "metadata": {},
            "source": [
                "**Step 2:** Import `KMeans` from `sklearn.cluster`"
            ]
        },
        {
            "cell_type": "code",
            "execution_count": 2,
            "metadata": {},
            "outputs": [],
            "source": [
                "from sklearn.cluster import KMeans"
            ]
        },
        {
            "cell_type": "markdown",
            "metadata": {},
            "source": [
                "**Step 3:** Using `KMeans()`, create a `KMeans` instance called `model` to find `3` clusters. To specify the number of clusters, use the `n_clusters` keyword argument"
            ]
        },
        {
            "cell_type": "code",
            "execution_count": 3,
            "metadata": {},
            "outputs": [],
            "source": [
                "model = KMeans(3)"
            ]
        },
        {
            "cell_type": "markdown",
            "metadata": {},
            "source": [
                "**Step 4:** Use the `.fit()` method of `model` to fit the model to the array of points `points`."
            ]
        },
        {
            "cell_type": "code",
            "execution_count": 4,
            "metadata": {},
            "outputs": [
                {
                    "data": {
                        "text/plain": "KMeans(algorithm='auto', copy_x=True, init='k-means++', max_iter=300,\n       n_clusters=3, n_init=10, n_jobs=None, precompute_distances='auto',\n       random_state=None, tol=0.0001, verbose=0)"
                    },
                    "execution_count": 4,
                    "metadata": {},
                    "output_type": "execute_result"
                }
            ],
            "source": [
                "model.fit(points)"
            ]
        },
        {
            "cell_type": "markdown",
            "metadata": {},
            "source": [
                "**Step 5:** Use the `.predict()` method of `model` to predict the cluster labels of `points`, assigning the result to `labels`."
            ]
        },
        {
            "cell_type": "code",
            "execution_count": 12,
            "metadata": {},
            "outputs": [],
            "source": [
                "labels = model.predict(points)\n"
            ]
        },
        {
            "cell_type": "markdown",
            "metadata": {},
            "source": [
                "**Step 6:** Print out the labels, and have a look at them!  _(In the next exercise, I'll show you how to visualise this clustering better.)_"
            ]
        },
        {
            "cell_type": "code",
            "execution_count": 13,
            "metadata": {},
            "outputs": [
                {
                    "name": "stdout",
                    "output_type": "stream",
                    "text": "[1 0 2 2 0 0 2 1 0 0 2 1 0 2 0 1 2 2 1 2 0 1 0 1 1 0 1 1 1 0 2 2 2 0 1 0 1\n 1 0 1 1 2 0 0 0 1 1 2 1 2 2 2 1 1 1 0 1 1 0 2 0 1 1 2 2 0 2 0 0 1 2 0 2 1\n 2 0 1 1 1 2 1 0 2 0 0 0 0 1 1 2 0 2 0 1 1 1 2 0 0 2 0 1 0 2 1 2 2 2 0 0 1\n 0 2 0 0 0 1 0 2 2 1 1 1 1 1 0 2 1 0 0 2 2 0 1 0 1 2 0 2 1 2 2 1 2 2 1 2 0\n 1 1 1 2 2 0 2 0 1 1 2 0 2 2 2 0 1 1 0 2 2 1 1 2 1 1 0 1 2 2 2 1 1 2 1 2 2\n 1 0 2 1 1 1 1 0 2 1 0 0 0 1 0 1 1 0 2 2 1 2 1 1 0 0 1 2 0 2 1 2 0 1 0 0 0\n 0 2 2 2 1 1 0 1 2 0 1 1 0 1 2 2 2 2 2 0 1 1 2 2 1 0 2 0 0 1 1 0 0 0 1 2 1\n 0 1 2 2 2 2 2 1 1 0 1 1 0 2 2 0 1 2 2 0 0 1 1 1 0 0 1 2 0 0 2 1 1 1 0 1 1\n 1 0 0 0]\n"
                }
            ],
            "source": [
                "print(labels)"
            ]
        },
        {
            "cell_type": "markdown",
            "metadata": {},
            "source": [
                "**Step 7:** Use the `.predict()` method of `model` to predict the cluster labels of `new_points`, assigning the result to `new_labels`.  Notice that KMeans can assign previously unseen points to the clusters it has already found!"
            ]
        },
        {
            "cell_type": "code",
            "execution_count": 14,
            "metadata": {},
            "outputs": [
                {
                    "name": "stdout",
                    "output_type": "stream",
                    "text": "[2 2 0 0 1 1 2 1 1 0 1 1 0 1 2 2 1 2 2 1 2 2 0 2 0 1 0 2 2 2 0 1 1 0 0 2 0\n 0 0 0 2 1 0 1 0 0 1 2 0 0 2 2 1 2 1 2 0 2 0 0 0 1 1 1 0 0 1 0 1 0 2 2 2 1\n 0 1 1 1 2 1 2 1 2 1 2 0 2 1 0 1 2 2 0 0 2 2 2 0 1 0]\n"
                }
            ],
            "source": [
                "new_labels = model.predict(new_points)\n",
                "print(new_labels)"
            ]
        },
        {
            "cell_type": "code",
            "execution_count": null,
            "metadata": {},
            "outputs": [],
            "source": []
        }
    ],
    "nbformat": 4
}