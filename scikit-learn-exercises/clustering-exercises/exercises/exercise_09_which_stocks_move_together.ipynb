{
    "nbformat_minor": 2,
    "cells": [
        {
            "cell_type": "markdown",
            "metadata": {},
            "source": [
                "# Exercise 9: Which stocks move together?\n",
                "\n",
                "In the previous exercise, you clustered companies by their daily stock price movements.  So which company have stock prices that tend to change in the same way?  Now inspect the cluster labels from your clustering to find out."
            ]
        },
        {
            "cell_type": "markdown",
            "metadata": {},
            "source": [
                "From the course _Transition to Data Science_. [Buy the entire course for just $10](https://www.udemy.com/transition-to-data-science-in-python/?couponCode=CLUSTER-NBS) for many more exercises and helpful video lectures."
            ]
        },
        {
            "cell_type": "markdown",
            "metadata": {},
            "source": [
                "**Step 1:** Load the data _(written for you)_."
            ]
        },
        {
            "cell_type": "code",
            "execution_count": 1,
            "metadata": {},
            "outputs": [],
            "source": [
                "import pandas as pd\n",
                "\n",
                "fn = '../datasets/company-stock-movements-2010-2015-incl.csv'\n",
                "stocks_df = pd.read_csv(fn, index_col=0)"
            ]
        },
        {
            "cell_type": "markdown",
            "metadata": {},
            "source": [
                "**Step 2:** Run your code from the previous exercise _(filled in for you)_."
            ]
        },
        {
            "cell_type": "code",
            "execution_count": 2,
            "metadata": {},
            "outputs": [
                {
                    "data": {
                        "text/plain": "Pipeline(memory=None,\n         steps=[('normalizer', Normalizer(copy=True, norm='l2')),\n                ('kmeans',\n                 KMeans(algorithm='auto', copy_x=True, init='k-means++',\n                        max_iter=300, n_clusters=14, n_init=10, n_jobs=None,\n                        precompute_distances='auto', random_state=None,\n                        tol=0.0001, verbose=0))],\n         verbose=False)"
                    },
                    "execution_count": 2,
                    "metadata": {},
                    "output_type": "execute_result"
                }
            ],
            "source": [
                "companies = list(stocks_df.index)\n",
                "movements = stocks_df.values\n",
                "\n",
                "from sklearn.preprocessing import Normalizer\n",
                "from sklearn.cluster import KMeans\n",
                "from sklearn.pipeline import make_pipeline\n",
                "\n",
                "normalizer = Normalizer()\n",
                "kmeans = KMeans(n_clusters=14)\n",
                "pipeline = make_pipeline(normalizer, kmeans)\n",
                "pipeline.fit(movements)"
            ]
        },
        {
            "cell_type": "markdown",
            "metadata": {},
            "source": [
                "**Step 3:** Use the `.predict()` method of the pipeline to predict the labels for `movements`."
            ]
        },
        {
            "cell_type": "code",
            "execution_count": 4,
            "metadata": {},
            "outputs": [],
            "source": [
                "labels = pipeline.predict(movements)"
            ]
        },
        {
            "cell_type": "markdown",
            "metadata": {},
            "source": [
                "**Step 4:** Align the cluster labels with the list of company names `companies` by creating a DataFrame `df` with `labels` and `companies` as columns."
            ]
        },
        {
            "cell_type": "code",
            "execution_count": 5,
            "metadata": {},
            "outputs": [],
            "source": [
                "df = pd.DataFrame({'labels': labels, 'companies': companies})"
            ]
        },
        {
            "cell_type": "markdown",
            "metadata": {},
            "source": [
                "**Step 5:** Now display the DataFrame, sorted by cluster label.  To do this, use the `.sort_values()` method of `df` to sort the DataFrame by the `'labels'` column."
            ]
        },
        {
            "cell_type": "code",
            "execution_count": 6,
            "metadata": {},
            "outputs": [
                {
                    "name": "stdout",
                    "output_type": "stream",
                    "text": "labels                           companies\n41       0                       Philip Morris\n29       1                     Lookheed Martin\n4        1                              Boeing\n36       1                    Northrop Grumman\n47       2                            Symantec\n30       2                          MasterCard\n23       2                                 IBM\n51       3                   Texas instruments\n50       3  Taiwan Semiconductor Manufacturing\n33       3                           Microsoft\n24       3                               Intel\n14       3                                Dell\n0        3                               Apple\n11       3                               Cisco\n45       4                                Sony\n15       4                                Ford\n48       4                              Toyota\n35       4                            Navistar\n21       4                               Honda\n22       4                                  HP\n34       4                          Mitsubishi\n7        4                               Canon\n42       5                   Royal Dutch Shell\n46       5                      Sanofi-Aventis\n37       5                            Novartis\n49       5                               Total\n31       5                           McDonalds\n43       5                                 SAP\n6        5            British American Tobacco\n56       5                            Wal-Mart\n19       5                     GlaxoSmithKline\n52       5                            Unilever\n58       6                               Xerox\n1        6                                 AIG\n26       6                      JPMorgan Chase\n55       6                         Wells Fargo\n18       6                       Goldman Sachs\n3        6                    American express\n5        6                     Bank of America\n16       6                   General Electrics\n9        7                   Colgate-Palmolive\n40       7                      Procter Gamble\n27       7                      Kimberly-Clark\n53       8                       Valero Energy\n57       8                               Exxon\n13       8                   DuPont de Nemours\n39       8                              Pfizer\n12       8                             Chevron\n32       8                                  3M\n8        8                         Caterpillar\n25       8                   Johnson & Johnson\n10       8                      ConocoPhillips\n44       8                        Schlumberger\n54       9                            Walgreen\n38      10                               Pepsi\n28      10                           Coca Cola\n59      11                               Yahoo\n2       12                              Amazon\n17      12                     Google/Alphabet\n20      13                          Home Depot\n"
                }
            ],
            "source": [
                "print(df.sort_values('labels'))"
            ]
        },
        {
            "cell_type": "markdown",
            "metadata": {},
            "source": [
                "**Great job!** Using k-means, you've discovered which companies stock prices move together on the stock exchange."
            ]
        },
        {
            "cell_type": "code",
            "execution_count": null,
            "metadata": {
                "collapsed": true
            },
            "outputs": [],
            "source": []
        }
    ],
    "metadata": {
        "language_info": {
            "pygments_lexer": "ipython3",
            "codemirror_mode": {
                "name": "ipython",
                "version": 3
            },
            "version": "3.7.4-final",
            "name": "python",
            "mimetype": "text/x-python",
            "nbconvert_exporter": "python",
            "file_extension": ".py"
        },
        "kernelspec": {
            "name": "python37464bitbaseconda631a9d6c818a4bcb9f46f671d2ea609d",
            "display_name": "Python 3.7.4 64-bit ('base': conda)",
            "language": "python"
        }
    },
    "nbformat": 4
}