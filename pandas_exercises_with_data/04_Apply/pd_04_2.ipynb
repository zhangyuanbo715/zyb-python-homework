{
 "cells": [
  {
   "cell_type": "markdown",
   "metadata": {},
   "source": [
    "# United States - Crime Rates - 1960 - 2014"
   ]
  },
  {
   "cell_type": "markdown",
   "metadata": {},
   "source": [
    "### Introduction:\n",
    "\n",
    "This time you will create a data \n",
    "\n",
    "Special thanks to: https://github.com/justmarkham for sharing the dataset and materials.\n",
    "\n",
    "### Step 1. Import the necessary libraries"
   ]
  },
  {
   "cell_type": "code",
   "execution_count": 3,
   "metadata": {},
   "outputs": [],
   "source": [
    "import numpy as np\n",
    "import pandas as pd"
   ]
  },
  {
   "cell_type": "markdown",
   "metadata": {},
   "source": [
    "### Step 2. Import the dataset from this [address](https://raw.githubusercontent.com/guipsamora/pandas_exercises/master/04_Apply/US_Crime_Rates/US_Crime_Rates_1960_2014.csv). "
   ]
  },
  {
   "cell_type": "markdown",
   "metadata": {},
   "source": [
    "### Step 3. Assign it to a variable called crime."
   ]
  },
  {
   "cell_type": "code",
   "execution_count": 4,
   "metadata": {},
   "outputs": [
    {
     "data": {
      "text/html": "<div>\n<style scoped>\n    .dataframe tbody tr th:only-of-type {\n        vertical-align: middle;\n    }\n\n    .dataframe tbody tr th {\n        vertical-align: top;\n    }\n\n    .dataframe thead th {\n        text-align: right;\n    }\n</style>\n<table border=\"1\" class=\"dataframe\">\n  <thead>\n    <tr style=\"text-align: right;\">\n      <th></th>\n      <th>Year</th>\n      <th>Population</th>\n      <th>Total</th>\n      <th>Violent</th>\n      <th>Property</th>\n      <th>Murder</th>\n      <th>Forcible_Rape</th>\n      <th>Robbery</th>\n      <th>Aggravated_assault</th>\n      <th>Burglary</th>\n      <th>Larceny_Theft</th>\n      <th>Vehicle_Theft</th>\n    </tr>\n  </thead>\n  <tbody>\n    <tr>\n      <td>0</td>\n      <td>1960</td>\n      <td>179323175</td>\n      <td>3384200</td>\n      <td>288460</td>\n      <td>3095700</td>\n      <td>9110</td>\n      <td>17190</td>\n      <td>107840</td>\n      <td>154320</td>\n      <td>912100</td>\n      <td>1855400</td>\n      <td>328200</td>\n    </tr>\n    <tr>\n      <td>1</td>\n      <td>1961</td>\n      <td>182992000</td>\n      <td>3488000</td>\n      <td>289390</td>\n      <td>3198600</td>\n      <td>8740</td>\n      <td>17220</td>\n      <td>106670</td>\n      <td>156760</td>\n      <td>949600</td>\n      <td>1913000</td>\n      <td>336000</td>\n    </tr>\n    <tr>\n      <td>2</td>\n      <td>1962</td>\n      <td>185771000</td>\n      <td>3752200</td>\n      <td>301510</td>\n      <td>3450700</td>\n      <td>8530</td>\n      <td>17550</td>\n      <td>110860</td>\n      <td>164570</td>\n      <td>994300</td>\n      <td>2089600</td>\n      <td>366800</td>\n    </tr>\n    <tr>\n      <td>3</td>\n      <td>1963</td>\n      <td>188483000</td>\n      <td>4109500</td>\n      <td>316970</td>\n      <td>3792500</td>\n      <td>8640</td>\n      <td>17650</td>\n      <td>116470</td>\n      <td>174210</td>\n      <td>1086400</td>\n      <td>2297800</td>\n      <td>408300</td>\n    </tr>\n    <tr>\n      <td>4</td>\n      <td>1964</td>\n      <td>191141000</td>\n      <td>4564600</td>\n      <td>364220</td>\n      <td>4200400</td>\n      <td>9360</td>\n      <td>21420</td>\n      <td>130390</td>\n      <td>203050</td>\n      <td>1213200</td>\n      <td>2514400</td>\n      <td>472800</td>\n    </tr>\n  </tbody>\n</table>\n</div>",
      "text/plain": "   Year  Population    Total  Violent  Property  Murder  Forcible_Rape  \\\n0  1960   179323175  3384200   288460   3095700    9110          17190   \n1  1961   182992000  3488000   289390   3198600    8740          17220   \n2  1962   185771000  3752200   301510   3450700    8530          17550   \n3  1963   188483000  4109500   316970   3792500    8640          17650   \n4  1964   191141000  4564600   364220   4200400    9360          21420   \n\n   Robbery  Aggravated_assault  Burglary  Larceny_Theft  Vehicle_Theft  \n0   107840              154320    912100        1855400         328200  \n1   106670              156760    949600        1913000         336000  \n2   110860              164570    994300        2089600         366800  \n3   116470              174210   1086400        2297800         408300  \n4   130390              203050   1213200        2514400         472800  "
     },
     "execution_count": 4,
     "metadata": {},
     "output_type": "execute_result"
    }
   ],
   "source": [
    "crime = pd.read_csv('../../pandas_exercises_with_data/04_Apply/US_Crime_Rates/US_Crime_Rates_1960_2014.csv')\n",
    "crime.head()"
   ]
  },
  {
   "cell_type": "markdown",
   "metadata": {},
   "source": [
    "### Step 4. What is the type of the columns?"
   ]
  },
  {
   "cell_type": "code",
   "execution_count": 5,
   "metadata": {},
   "outputs": [
    {
     "data": {
      "text/plain": "Year                  int64\nPopulation            int64\nTotal                 int64\nViolent               int64\nProperty              int64\nMurder                int64\nForcible_Rape         int64\nRobbery               int64\nAggravated_assault    int64\nBurglary              int64\nLarceny_Theft         int64\nVehicle_Theft         int64\ndtype: object"
     },
     "execution_count": 5,
     "metadata": {},
     "output_type": "execute_result"
    }
   ],
   "source": [
    "crime.dtypes"
   ]
  },
  {
   "cell_type": "markdown",
   "metadata": {},
   "source": [
    "##### Have you noticed that the type of Year is int64. But pandas has a different type to work with Time Series. Let's see it now.\n",
    "\n",
    "### Step 5. Convert the type of the column Year to datetime64"
   ]
  },
  {
   "cell_type": "code",
   "execution_count": 6,
   "metadata": {},
   "outputs": [
    {
     "name": "stdout",
     "output_type": "stream",
     "text": "<class 'pandas.core.frame.DataFrame'>\nRangeIndex: 55 entries, 0 to 54\nData columns (total 12 columns):\nYear                  55 non-null datetime64[ns]\nPopulation            55 non-null int64\nTotal                 55 non-null int64\nViolent               55 non-null int64\nProperty              55 non-null int64\nMurder                55 non-null int64\nForcible_Rape         55 non-null int64\nRobbery               55 non-null int64\nAggravated_assault    55 non-null int64\nBurglary              55 non-null int64\nLarceny_Theft         55 non-null int64\nVehicle_Theft         55 non-null int64\ndtypes: datetime64[ns](1), int64(11)\nmemory usage: 5.3 KB\n"
    }
   ],
   "source": [
    "crime.Year = pd.to_datetime(crime.Year, format='%Y')\n",
    "crime.info()"
   ]
  },
  {
   "cell_type": "markdown",
   "metadata": {},
   "source": [
    "### Step 6. Set the Year column as the index of the dataframe"
   ]
  },
  {
   "cell_type": "code",
   "execution_count": 7,
   "metadata": {},
   "outputs": [
    {
     "data": {
      "text/html": "<div>\n<style scoped>\n    .dataframe tbody tr th:only-of-type {\n        vertical-align: middle;\n    }\n\n    .dataframe tbody tr th {\n        vertical-align: top;\n    }\n\n    .dataframe thead th {\n        text-align: right;\n    }\n</style>\n<table border=\"1\" class=\"dataframe\">\n  <thead>\n    <tr style=\"text-align: right;\">\n      <th></th>\n      <th>Population</th>\n      <th>Total</th>\n      <th>Violent</th>\n      <th>Property</th>\n      <th>Murder</th>\n      <th>Forcible_Rape</th>\n      <th>Robbery</th>\n      <th>Aggravated_assault</th>\n      <th>Burglary</th>\n      <th>Larceny_Theft</th>\n      <th>Vehicle_Theft</th>\n    </tr>\n    <tr>\n      <th>Year</th>\n      <th></th>\n      <th></th>\n      <th></th>\n      <th></th>\n      <th></th>\n      <th></th>\n      <th></th>\n      <th></th>\n      <th></th>\n      <th></th>\n      <th></th>\n    </tr>\n  </thead>\n  <tbody>\n    <tr>\n      <td>1960-01-01</td>\n      <td>179323175</td>\n      <td>3384200</td>\n      <td>288460</td>\n      <td>3095700</td>\n      <td>9110</td>\n      <td>17190</td>\n      <td>107840</td>\n      <td>154320</td>\n      <td>912100</td>\n      <td>1855400</td>\n      <td>328200</td>\n    </tr>\n    <tr>\n      <td>1961-01-01</td>\n      <td>182992000</td>\n      <td>3488000</td>\n      <td>289390</td>\n      <td>3198600</td>\n      <td>8740</td>\n      <td>17220</td>\n      <td>106670</td>\n      <td>156760</td>\n      <td>949600</td>\n      <td>1913000</td>\n      <td>336000</td>\n    </tr>\n    <tr>\n      <td>1962-01-01</td>\n      <td>185771000</td>\n      <td>3752200</td>\n      <td>301510</td>\n      <td>3450700</td>\n      <td>8530</td>\n      <td>17550</td>\n      <td>110860</td>\n      <td>164570</td>\n      <td>994300</td>\n      <td>2089600</td>\n      <td>366800</td>\n    </tr>\n    <tr>\n      <td>1963-01-01</td>\n      <td>188483000</td>\n      <td>4109500</td>\n      <td>316970</td>\n      <td>3792500</td>\n      <td>8640</td>\n      <td>17650</td>\n      <td>116470</td>\n      <td>174210</td>\n      <td>1086400</td>\n      <td>2297800</td>\n      <td>408300</td>\n    </tr>\n    <tr>\n      <td>1964-01-01</td>\n      <td>191141000</td>\n      <td>4564600</td>\n      <td>364220</td>\n      <td>4200400</td>\n      <td>9360</td>\n      <td>21420</td>\n      <td>130390</td>\n      <td>203050</td>\n      <td>1213200</td>\n      <td>2514400</td>\n      <td>472800</td>\n    </tr>\n  </tbody>\n</table>\n</div>",
      "text/plain": "            Population    Total  Violent  Property  Murder  Forcible_Rape  \\\nYear                                                                        \n1960-01-01   179323175  3384200   288460   3095700    9110          17190   \n1961-01-01   182992000  3488000   289390   3198600    8740          17220   \n1962-01-01   185771000  3752200   301510   3450700    8530          17550   \n1963-01-01   188483000  4109500   316970   3792500    8640          17650   \n1964-01-01   191141000  4564600   364220   4200400    9360          21420   \n\n            Robbery  Aggravated_assault  Burglary  Larceny_Theft  \\\nYear                                                               \n1960-01-01   107840              154320    912100        1855400   \n1961-01-01   106670              156760    949600        1913000   \n1962-01-01   110860              164570    994300        2089600   \n1963-01-01   116470              174210   1086400        2297800   \n1964-01-01   130390              203050   1213200        2514400   \n\n            Vehicle_Theft  \nYear                       \n1960-01-01         328200  \n1961-01-01         336000  \n1962-01-01         366800  \n1963-01-01         408300  \n1964-01-01         472800  "
     },
     "execution_count": 7,
     "metadata": {},
     "output_type": "execute_result"
    }
   ],
   "source": [
    "crime = crime.set_index('Year')\n",
    "crime.head()"
   ]
  },
  {
   "cell_type": "markdown",
   "metadata": {},
   "source": [
    "### Step 7. Delete the Total column"
   ]
  },
  {
   "cell_type": "code",
   "execution_count": 8,
   "metadata": {},
   "outputs": [
    {
     "data": {
      "text/html": "<div>\n<style scoped>\n    .dataframe tbody tr th:only-of-type {\n        vertical-align: middle;\n    }\n\n    .dataframe tbody tr th {\n        vertical-align: top;\n    }\n\n    .dataframe thead th {\n        text-align: right;\n    }\n</style>\n<table border=\"1\" class=\"dataframe\">\n  <thead>\n    <tr style=\"text-align: right;\">\n      <th></th>\n      <th>Population</th>\n      <th>Violent</th>\n      <th>Property</th>\n      <th>Murder</th>\n      <th>Forcible_Rape</th>\n      <th>Robbery</th>\n      <th>Aggravated_assault</th>\n      <th>Burglary</th>\n      <th>Larceny_Theft</th>\n      <th>Vehicle_Theft</th>\n    </tr>\n    <tr>\n      <th>Year</th>\n      <th></th>\n      <th></th>\n      <th></th>\n      <th></th>\n      <th></th>\n      <th></th>\n      <th></th>\n      <th></th>\n      <th></th>\n      <th></th>\n    </tr>\n  </thead>\n  <tbody>\n    <tr>\n      <td>1960-01-01</td>\n      <td>179323175</td>\n      <td>288460</td>\n      <td>3095700</td>\n      <td>9110</td>\n      <td>17190</td>\n      <td>107840</td>\n      <td>154320</td>\n      <td>912100</td>\n      <td>1855400</td>\n      <td>328200</td>\n    </tr>\n    <tr>\n      <td>1961-01-01</td>\n      <td>182992000</td>\n      <td>289390</td>\n      <td>3198600</td>\n      <td>8740</td>\n      <td>17220</td>\n      <td>106670</td>\n      <td>156760</td>\n      <td>949600</td>\n      <td>1913000</td>\n      <td>336000</td>\n    </tr>\n    <tr>\n      <td>1962-01-01</td>\n      <td>185771000</td>\n      <td>301510</td>\n      <td>3450700</td>\n      <td>8530</td>\n      <td>17550</td>\n      <td>110860</td>\n      <td>164570</td>\n      <td>994300</td>\n      <td>2089600</td>\n      <td>366800</td>\n    </tr>\n    <tr>\n      <td>1963-01-01</td>\n      <td>188483000</td>\n      <td>316970</td>\n      <td>3792500</td>\n      <td>8640</td>\n      <td>17650</td>\n      <td>116470</td>\n      <td>174210</td>\n      <td>1086400</td>\n      <td>2297800</td>\n      <td>408300</td>\n    </tr>\n    <tr>\n      <td>1964-01-01</td>\n      <td>191141000</td>\n      <td>364220</td>\n      <td>4200400</td>\n      <td>9360</td>\n      <td>21420</td>\n      <td>130390</td>\n      <td>203050</td>\n      <td>1213200</td>\n      <td>2514400</td>\n      <td>472800</td>\n    </tr>\n  </tbody>\n</table>\n</div>",
      "text/plain": "            Population  Violent  Property  Murder  Forcible_Rape  Robbery  \\\nYear                                                                        \n1960-01-01   179323175   288460   3095700    9110          17190   107840   \n1961-01-01   182992000   289390   3198600    8740          17220   106670   \n1962-01-01   185771000   301510   3450700    8530          17550   110860   \n1963-01-01   188483000   316970   3792500    8640          17650   116470   \n1964-01-01   191141000   364220   4200400    9360          21420   130390   \n\n            Aggravated_assault  Burglary  Larceny_Theft  Vehicle_Theft  \nYear                                                                    \n1960-01-01              154320    912100        1855400         328200  \n1961-01-01              156760    949600        1913000         336000  \n1962-01-01              164570    994300        2089600         366800  \n1963-01-01              174210   1086400        2297800         408300  \n1964-01-01              203050   1213200        2514400         472800  "
     },
     "execution_count": 8,
     "metadata": {},
     "output_type": "execute_result"
    }
   ],
   "source": [
    "del crime['Total']#删除列变量也要用[]\n",
    "crime.head()"
   ]
  },
  {
   "cell_type": "markdown",
   "metadata": {},
   "source": [
    "### Step 8. Group the year by decades and sum the values\n",
    "\n",
    "#### Pay attention to the Population column number, summing this column is a mistake"
   ]
  },
  {
   "cell_type": "code",
   "execution_count": 9,
   "metadata": {},
   "outputs": [
    {
     "data": {
      "text/html": "<div>\n<style scoped>\n    .dataframe tbody tr th:only-of-type {\n        vertical-align: middle;\n    }\n\n    .dataframe tbody tr th {\n        vertical-align: top;\n    }\n\n    .dataframe thead th {\n        text-align: right;\n    }\n</style>\n<table border=\"1\" class=\"dataframe\">\n  <thead>\n    <tr style=\"text-align: right;\">\n      <th></th>\n      <th>Population</th>\n      <th>Violent</th>\n      <th>Property</th>\n      <th>Murder</th>\n      <th>Forcible_Rape</th>\n      <th>Robbery</th>\n      <th>Aggravated_assault</th>\n      <th>Burglary</th>\n      <th>Larceny_Theft</th>\n      <th>Vehicle_Theft</th>\n    </tr>\n    <tr>\n      <th>Year</th>\n      <th></th>\n      <th></th>\n      <th></th>\n      <th></th>\n      <th></th>\n      <th></th>\n      <th></th>\n      <th></th>\n      <th></th>\n      <th></th>\n    </tr>\n  </thead>\n  <tbody>\n    <tr>\n      <td>1960-01-01</td>\n      <td>201385000</td>\n      <td>4134930</td>\n      <td>45160900</td>\n      <td>106180</td>\n      <td>236720</td>\n      <td>1633510</td>\n      <td>2158520</td>\n      <td>13321100</td>\n      <td>26547700</td>\n      <td>5292100</td>\n    </tr>\n    <tr>\n      <td>1970-01-01</td>\n      <td>220099000</td>\n      <td>9607930</td>\n      <td>91383800</td>\n      <td>192230</td>\n      <td>554570</td>\n      <td>4159020</td>\n      <td>4702120</td>\n      <td>28486000</td>\n      <td>53157800</td>\n      <td>9739900</td>\n    </tr>\n    <tr>\n      <td>1980-01-01</td>\n      <td>248239000</td>\n      <td>14074328</td>\n      <td>117048900</td>\n      <td>206439</td>\n      <td>865639</td>\n      <td>5383109</td>\n      <td>7619130</td>\n      <td>33073494</td>\n      <td>72040253</td>\n      <td>11935411</td>\n    </tr>\n    <tr>\n      <td>1990-01-01</td>\n      <td>272690813</td>\n      <td>17527048</td>\n      <td>119053499</td>\n      <td>211664</td>\n      <td>998827</td>\n      <td>5748930</td>\n      <td>10568963</td>\n      <td>26750015</td>\n      <td>77679366</td>\n      <td>14624418</td>\n    </tr>\n    <tr>\n      <td>2000-01-01</td>\n      <td>307006550</td>\n      <td>13968056</td>\n      <td>100944369</td>\n      <td>163068</td>\n      <td>922499</td>\n      <td>4230366</td>\n      <td>8652124</td>\n      <td>21565176</td>\n      <td>67970291</td>\n      <td>11412834</td>\n    </tr>\n    <tr>\n      <td>2010-01-01</td>\n      <td>318857056</td>\n      <td>6072017</td>\n      <td>44095950</td>\n      <td>72867</td>\n      <td>421059</td>\n      <td>1749809</td>\n      <td>3764142</td>\n      <td>10125170</td>\n      <td>30401698</td>\n      <td>3569080</td>\n    </tr>\n  </tbody>\n</table>\n</div>",
      "text/plain": "            Population   Violent   Property  Murder  Forcible_Rape  Robbery  \\\nYear                                                                          \n1960-01-01   201385000   4134930   45160900  106180         236720  1633510   \n1970-01-01   220099000   9607930   91383800  192230         554570  4159020   \n1980-01-01   248239000  14074328  117048900  206439         865639  5383109   \n1990-01-01   272690813  17527048  119053499  211664         998827  5748930   \n2000-01-01   307006550  13968056  100944369  163068         922499  4230366   \n2010-01-01   318857056   6072017   44095950   72867         421059  1749809   \n\n            Aggravated_assault  Burglary  Larceny_Theft  Vehicle_Theft  \nYear                                                                    \n1960-01-01             2158520  13321100       26547700        5292100  \n1970-01-01             4702120  28486000       53157800        9739900  \n1980-01-01             7619130  33073494       72040253       11935411  \n1990-01-01            10568963  26750015       77679366       14624418  \n2000-01-01             8652124  21565176       67970291       11412834  \n2010-01-01             3764142  10125170       30401698        3569080  "
     },
     "execution_count": 9,
     "metadata": {},
     "output_type": "execute_result"
    }
   ],
   "source": [
    "crimes = crime.resample('10AS').sum()\n",
    "population = crime['Population'].resample('10AS').max()\n",
    "crimes['Population'] = population\n",
    "crimes"
   ]
  },
  {
   "cell_type": "markdown",
   "metadata": {},
   "source": [
    "### Step 9. What is the mos dangerous decade to live in the US?"
   ]
  },
  {
   "cell_type": "code",
   "execution_count": 12,
   "metadata": {},
   "outputs": [
    {
     "data": {
      "text/plain": "Population           2014-01-01\nViolent              1992-01-01\nProperty             1991-01-01\nMurder               1991-01-01\nForcible_Rape        1992-01-01\nRobbery              1991-01-01\nAggravated_assault   1993-01-01\nBurglary             1980-01-01\nLarceny_Theft        1991-01-01\nVehicle_Theft        1991-01-01\ndtype: datetime64[ns]"
     },
     "execution_count": 12,
     "metadata": {},
     "output_type": "execute_result"
    }
   ],
   "source": [
    "crime.idxmax(0)"
   ]
  },
  {
   "cell_type": "code",
   "execution_count": null,
   "metadata": {},
   "outputs": [],
   "source": []
  }
 ],
 "metadata": {
  "anaconda-cloud": {},
  "kernelspec": {
   "display_name": "Python 3.7.4 64-bit ('base': conda)",
   "language": "python",
   "name": "python37464bitbaseconda631a9d6c818a4bcb9f46f671d2ea609d"
  },
  "language_info": {
   "codemirror_mode": {
    "name": "ipython",
    "version": 2
   },
   "file_extension": ".py",
   "mimetype": "text/x-python",
   "name": "python",
   "nbconvert_exporter": "python",
   "pygments_lexer": "ipython2",
   "version": "3.7.4-final"
  }
 },
 "nbformat": 4,
 "nbformat_minor": 0
}